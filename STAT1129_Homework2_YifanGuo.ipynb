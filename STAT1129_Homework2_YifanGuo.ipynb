{
 "cells": [
  {
   "cell_type": "code",
   "execution_count": 1,
   "metadata": {},
   "outputs": [
    {
     "name": "stdout",
     "output_type": "stream",
     "text": [
      "['red', 'blue', 'orange', 'white']\n"
     ]
    }
   ],
   "source": [
    "color  = [\"red\",\"blue\",\"orange\",\"white\"]\n",
    "print(color)"
   ]
  },
  {
   "cell_type": "code",
   "execution_count": 7,
   "metadata": {},
   "outputs": [
    {
     "name": "stdout",
     "output_type": "stream",
     "text": [
      "0\n",
      "1\n",
      "2\n",
      "3\n",
      "4\n",
      "5\n",
      "6\n",
      "7\n",
      "8\n",
      "9\n"
     ]
    }
   ],
   "source": [
    "for i in range (0,10):\n",
    "    if i < 10:\n",
    "        print(i)"
   ]
  },
  {
   "cell_type": "code",
   "execution_count": 9,
   "metadata": {},
   "outputs": [
    {
     "name": "stdout",
     "output_type": "stream",
     "text": [
      "0\n",
      "1\n",
      "2\n",
      "3\n",
      "4\n",
      "5\n",
      "6\n",
      "7\n",
      "8\n",
      "9\n"
     ]
    }
   ],
   "source": [
    "n=0\n",
    "while n < 10:\n",
    "    print (n)\n",
    "    n += 1"
   ]
  },
  {
   "cell_type": "code",
   "execution_count": null,
   "metadata": {},
   "outputs": [],
   "source": [
    "n = 0\n",
    "while n <= 10:\n",
    "    print (n)\n",
    "    n = n+1\n",
    "else: \n",
    "    print(\"greater than 10\")"
   ]
  },
  {
   "cell_type": "code",
   "execution_count": 15,
   "metadata": {},
   "outputs": [
    {
     "name": "stdout",
     "output_type": "stream",
     "text": [
      "the total sum is 1\n",
      "the total sum is 3\n",
      "the total sum is 6\n",
      "the total sum is 10\n",
      "the total sum is 15\n",
      "the total sum is 21\n",
      "the total sum is 28\n",
      "the total sum is 36\n",
      "the total sum is 45\n",
      "the total sum is 55\n",
      "the total sum is 66\n",
      "the total sum is 78\n",
      "the total sum is 91\n",
      "the total sum is 105\n",
      "the total sum is 120\n",
      "the total sum is 136\n",
      "the total sum is 153\n",
      "the total sum is 171\n",
      "the total sum is 190\n",
      "the total sum is 210\n",
      "the total sum is 231\n",
      "the total sum is 253\n",
      "the total sum is 276\n",
      "the total sum is 300\n",
      "the total sum is 325\n",
      "the total sum is 351\n",
      "the total sum is 378\n",
      "the total sum is 406\n",
      "the total sum is 435\n",
      "the total sum is 465\n"
     ]
    }
   ],
   "source": [
    "i = 1\n",
    "sum = 0\n",
    "while i <= 30:\n",
    "    sum += i \n",
    "    i+= 1\n",
    "    print (\"the total sum is\", sum)    "
   ]
  },
  {
   "cell_type": "code",
   "execution_count": null,
   "metadata": {},
   "outputs": [],
   "source": []
  }
 ],
 "metadata": {
  "kernelspec": {
   "display_name": "Python 3",
   "language": "python",
   "name": "python3"
  },
  "language_info": {
   "codemirror_mode": {
    "name": "ipython",
    "version": 3
   },
   "file_extension": ".py",
   "mimetype": "text/x-python",
   "name": "python",
   "nbconvert_exporter": "python",
   "pygments_lexer": "ipython3",
   "version": "3.8.5"
  }
 },
 "nbformat": 4,
 "nbformat_minor": 4
}
