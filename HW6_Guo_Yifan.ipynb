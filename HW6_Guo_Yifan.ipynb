{
 "cells": [
  {
   "cell_type": "code",
   "execution_count": 2,
   "metadata": {},
   "outputs": [
    {
     "data": {
      "text/html": [
       "<table>\n",
       "<tbody>\n",
       "\t<tr><td>61 </td><td>229</td><td>369</td><td>565</td></tr>\n",
       "\t<tr><td>49 </td><td>163</td><td>258</td><td>391</td></tr>\n",
       "</tbody>\n",
       "</table>\n"
      ],
      "text/latex": [
       "\\begin{tabular}{llll}\n",
       "\t 61  & 229 & 369 & 565\\\\\n",
       "\t 49  & 163 & 258 & 391\\\\\n",
       "\\end{tabular}\n"
      ],
      "text/markdown": [
       "\n",
       "| 61  | 229 | 369 | 565 |\n",
       "| 49  | 163 | 258 | 391 |\n",
       "\n"
      ],
      "text/plain": [
       "     [,1] [,2] [,3] [,4]\n",
       "[1,] 61   229  369  565 \n",
       "[2,] 49   163  258  391 "
      ]
     },
     "metadata": {},
     "output_type": "display_data"
    }
   ],
   "source": [
    "# Question 1 \n",
    "C = matrix(c(7, 9, 12, 2, 4, 13), 2, 3, T)\n",
    "D = matrix(c(1, 7, 12, 19, 2, 8, 13, 20, 3, 9, 14, 21), 3, 4, T)\n",
    "C %*% D"
   ]
  },
  {
   "cell_type": "code",
   "execution_count": 3,
   "metadata": {},
   "outputs": [
    {
     "data": {
      "text/html": [
       "<table>\n",
       "<thead><tr><th scope=col>id</th><th scope=col>name</th><th scope=col>salary</th></tr></thead>\n",
       "<tbody>\n",
       "\t<tr><td>1       </td><td>Peter   </td><td>623.30  </td></tr>\n",
       "\t<tr><td>2       </td><td>Amy     </td><td>515.20  </td></tr>\n",
       "\t<tr><td>3       </td><td>Ryan    </td><td>611.00  </td></tr>\n",
       "\t<tr><td>4       </td><td>Gary    </td><td>729.00  </td></tr>\n",
       "\t<tr><td>5       </td><td>Michelle</td><td>843.25  </td></tr>\n",
       "</tbody>\n",
       "</table>\n"
      ],
      "text/latex": [
       "\\begin{tabular}{r|lll}\n",
       " id & name & salary\\\\\n",
       "\\hline\n",
       "\t 1        & Peter    & 623.30  \\\\\n",
       "\t 2        & Amy      & 515.20  \\\\\n",
       "\t 3        & Ryan     & 611.00  \\\\\n",
       "\t 4        & Gary     & 729.00  \\\\\n",
       "\t 5        & Michelle & 843.25  \\\\\n",
       "\\end{tabular}\n"
      ],
      "text/markdown": [
       "\n",
       "| id | name | salary |\n",
       "|---|---|---|\n",
       "| 1        | Peter    | 623.30   |\n",
       "| 2        | Amy      | 515.20   |\n",
       "| 3        | Ryan     | 611.00   |\n",
       "| 4        | Gary     | 729.00   |\n",
       "| 5        | Michelle | 843.25   |\n",
       "\n"
      ],
      "text/plain": [
       "  id name     salary\n",
       "1 1  Peter    623.30\n",
       "2 2  Amy      515.20\n",
       "3 3  Ryan     611.00\n",
       "4 4  Gary     729.00\n",
       "5 5  Michelle 843.25"
      ]
     },
     "metadata": {},
     "output_type": "display_data"
    }
   ],
   "source": [
    "# Question 2.a\n",
    "\n",
    "# Create a data frame\n",
    "Data_Frame <- data.frame (\n",
    "  id = c(1, 2, 3, 4, 5),\n",
    "  name = c(\"Peter\", \"Amy\", \"Ryan\", \"Gary\", \"Michelle\"),\n",
    "  salary = c(623.30, 515.20, 611.00, 729.00, 843.25)\n",
    ")\n",
    "\n",
    "# Print the data frame\n",
    "Data_Frame"
   ]
  },
  {
   "cell_type": "code",
   "execution_count": 4,
   "metadata": {},
   "outputs": [
    {
     "data": {
      "text/html": [
       "<table>\n",
       "<thead><tr><th scope=col>id</th><th scope=col>name</th><th scope=col>salary</th><th scope=col>department</th></tr></thead>\n",
       "<tbody>\n",
       "\t<tr><td>1                    </td><td>Peter                </td><td>623.30               </td><td>IT                   </td></tr>\n",
       "\t<tr><td>2                    </td><td>Amy                  </td><td>515.20               </td><td>finance              </td></tr>\n",
       "\t<tr><td>3                    </td><td>Ryan                 </td><td>611.00               </td><td>Computer Science     </td></tr>\n",
       "\t<tr><td>4                    </td><td>Gary                 </td><td>729.00               </td><td>Political Science    </td></tr>\n",
       "\t<tr><td>5                    </td><td>Michelle             </td><td>843.25               </td><td>International Affairs</td></tr>\n",
       "</tbody>\n",
       "</table>\n"
      ],
      "text/latex": [
       "\\begin{tabular}{r|llll}\n",
       " id & name & salary & department\\\\\n",
       "\\hline\n",
       "\t 1                     & Peter                 & 623.30                & IT                   \\\\\n",
       "\t 2                     & Amy                   & 515.20                & finance              \\\\\n",
       "\t 3                     & Ryan                  & 611.00                & Computer Science     \\\\\n",
       "\t 4                     & Gary                  & 729.00                & Political Science    \\\\\n",
       "\t 5                     & Michelle              & 843.25                & International Affairs\\\\\n",
       "\\end{tabular}\n"
      ],
      "text/markdown": [
       "\n",
       "| id | name | salary | department |\n",
       "|---|---|---|---|\n",
       "| 1                     | Peter                 | 623.30                | IT                    |\n",
       "| 2                     | Amy                   | 515.20                | finance               |\n",
       "| 3                     | Ryan                  | 611.00                | Computer Science      |\n",
       "| 4                     | Gary                  | 729.00                | Political Science     |\n",
       "| 5                     | Michelle              | 843.25                | International Affairs |\n",
       "\n"
      ],
      "text/plain": [
       "  id name     salary department           \n",
       "1 1  Peter    623.30 IT                   \n",
       "2 2  Amy      515.20 finance              \n",
       "3 3  Ryan     611.00 Computer Science     \n",
       "4 4  Gary     729.00 Political Science    \n",
       "5 5  Michelle 843.25 International Affairs"
      ]
     },
     "metadata": {},
     "output_type": "display_data"
    }
   ],
   "source": [
    "# Question 2.b\n",
    "# Add a Column\n",
    "New_col_DF <- cbind(Data_Frame, department = c(\"IT\", \"finance\", \"Computer Science\", \"Political Science\", \"International Affairs\"))\n",
    "\n",
    "# Print the new row\n",
    "New_col_DF\n"
   ]
  },
  {
   "cell_type": "code",
   "execution_count": 5,
   "metadata": {
    "scrolled": true
   },
   "outputs": [
    {
     "data": {
      "text/html": [
       "<table>\n",
       "<thead><tr><th></th><th scope=col>name</th><th scope=col>salary</th></tr></thead>\n",
       "<tbody>\n",
       "\t<tr><th scope=row>1</th><td>Peter   </td><td>623.30  </td></tr>\n",
       "\t<tr><th scope=row>3</th><td>Ryan    </td><td>611.00  </td></tr>\n",
       "\t<tr><th scope=row>5</th><td>Michelle</td><td>843.25  </td></tr>\n",
       "</tbody>\n",
       "</table>\n"
      ],
      "text/latex": [
       "\\begin{tabular}{r|ll}\n",
       "  & name & salary\\\\\n",
       "\\hline\n",
       "\t1 & Peter    & 623.30  \\\\\n",
       "\t3 & Ryan     & 611.00  \\\\\n",
       "\t5 & Michelle & 843.25  \\\\\n",
       "\\end{tabular}\n"
      ],
      "text/markdown": [
       "\n",
       "| <!--/--> | name | salary |\n",
       "|---|---|---|\n",
       "| 1 | Peter    | 623.30   |\n",
       "| 3 | Ryan     | 611.00   |\n",
       "| 5 | Michelle | 843.25   |\n",
       "\n"
      ],
      "text/plain": [
       "  name     salary\n",
       "1 Peter    623.30\n",
       "3 Ryan     611.00\n",
       "5 Michelle 843.25"
      ]
     },
     "metadata": {},
     "output_type": "display_data"
    }
   ],
   "source": [
    "\n",
    "# Question 2.c\n",
    "Data_Frame[c(1,3,5), 2:3]\n"
   ]
  },
  {
   "cell_type": "code",
   "execution_count": 6,
   "metadata": {},
   "outputs": [
    {
     "data": {
      "image/png": "[encoded data removed]",
      "text/plain": [
       "plot without title"
      ]
     },
     "metadata": {},
     "output_type": "display_data"
    }
   ],
   "source": [
    "# Question 2.d\n",
    "x <- Data_Frame[c(1,4,5), 2]\n",
    "y <- Data_Frame[c(1,4,5), 3]\n",
    "barplot(y, names.arg = x)"
   ]
  },
  {
   "cell_type": "code",
   "execution_count": 9,
   "metadata": {},
   "outputs": [
    {
     "data": {
      "text/html": [
       "<ol class=list-inline>\n",
       "\t<li>623.3</li>\n",
       "\t<li>515.2</li>\n",
       "\t<li>611</li>\n",
       "\t<li>729</li>\n",
       "\t<li>843.25</li>\n",
       "</ol>\n"
      ],
      "text/latex": [
       "\\begin{enumerate*}\n",
       "\\item 623.3\n",
       "\\item 515.2\n",
       "\\item 611\n",
       "\\item 729\n",
       "\\item 843.25\n",
       "\\end{enumerate*}\n"
      ],
      "text/markdown": [
       "1. 623.3\n",
       "2. 515.2\n",
       "3. 611\n",
       "4. 729\n",
       "5. 843.25\n",
       "\n",
       "\n"
      ],
      "text/plain": [
       "[1] 623.30 515.20 611.00 729.00 843.25"
      ]
     },
     "metadata": {},
     "output_type": "display_data"
    },
    {
     "data": {
      "text/html": [
       "843.25"
      ],
      "text/latex": [
       "843.25"
      ],
      "text/markdown": [
       "843.25"
      ],
      "text/plain": [
       "[1] 843.25"
      ]
     },
     "metadata": {},
     "output_type": "display_data"
    },
    {
     "data": {
      "text/html": [
       "515.2"
      ],
      "text/latex": [
       "515.2"
      ],
      "text/markdown": [
       "515.2"
      ],
      "text/plain": [
       "[1] 515.2"
      ]
     },
     "metadata": {},
     "output_type": "display_data"
    },
    {
     "data": {
      "text/html": [
       "623.3"
      ],
      "text/latex": [
       "623.3"
      ],
      "text/markdown": [
       "623.3"
      ],
      "text/plain": [
       "[1] 623.3"
      ]
     },
     "metadata": {},
     "output_type": "display_data"
    },
    {
     "data": {
      "image/png": "[encoded data removed]",
      "text/plain": [
       "Plot with title \"salary\""
      ]
     },
     "metadata": {},
     "output_type": "display_data"
    }
   ],
   "source": [
    "Data_Frame[c(1:5), 3]\n",
    "max (Data_Frame$salary)\n",
    "min (Data_Frame$salary)\n",
    "median (Data_Frame$salary)\n",
    "\n",
    "x <- c(max (Data_Frame$salary), min (Data_Frame$salary), median (Data_Frame$salary))\n",
    "mylabel <- c(\"the highest salary\", \"the lowest salary\", \"median salary\")\n",
    "\n",
    "pie (x, label = mylabel, main = \"salary\")"
   ]
  },
  {
   "cell_type": "code",
   "execution_count": 61,
   "metadata": {},
   "outputs": [
    {
     "name": "stdout",
     "output_type": "stream",
     "text": [
      "[1] \"You have lost the game.\"\n"
     ]
    }
   ],
   "source": [
    "# Question 3\n",
    "playerscore <- sample(1:10, 1)\n",
    "gametowin <- 3\n",
    "aiscore <- 2\n",
    "\n",
    "if (playerscore == gametowin){\n",
    "    print(\"You have won the game!!!\")\n",
    "}   else if (playerscore < gametowin){\n",
    "    print (\"The game is not over.\")\n",
    "}   else{\n",
    "    print (\"You have lost the game.\")\n",
    "}\n",
    "\n"
   ]
  },
  {
   "cell_type": "code",
   "execution_count": null,
   "metadata": {},
   "outputs": [],
   "source": [
    "game <- function(numgame){\n",
    "  gamewin = 0\n",
    "  while (gamewin < numgame){\n",
    "    print(\"the player has won a game\")\n",
    "    gamewin = gamewin +1\n",
    "  }\n",
    "}\n",
    "game(3)"
   ]
  },
  {
   "cell_type": "code",
   "execution_count": null,
   "metadata": {},
   "outputs": [],
   "source": [
    "# Rock = 1, Paper= 2 , Scissors= 3\n",
    "playermove <- sample(1:3, 1)\n",
    "playermove\n",
    "aimove <- sample(1:3, 1)\n",
    "aimove\n",
    "while (playermove != aimove){\n",
    "    print (\"Tie is not the result\")\n",
    "    if (playermove > aimove){\n",
    "        print (\"You have lost the game.\")\n",
    "    } else {\n",
    "        print (\"You have won the game!!!\")\n",
    "    }\n",
    "}\n",
    "    "
   ]
  },
  {
   "cell_type": "code",
   "execution_count": null,
   "metadata": {},
   "outputs": [],
   "source": [
    "# Python text\n",
    "\n",
    "\n",
    "\n",
    "def playermove(self):\n",
    "        print(\"GAME\",self.gamenum,\"ROUND\",self.round)\n",
    "        self.player = input(\"Please make your choice, 1:Rock 2:Paper 3:Scissors\")\n",
    "        if self.player.isdigit() and (int(self.player) in [1,2,3]):\n",
    "            self.player_int = int(self.player)\n",
    "            self.round += 1\n",
    "        else:\n",
    "            print(\"please enter 1 for rock, 2 for paper, and 3 for scissors\\n\")\n",
    "            self.playermove()\n",
    "\n",
    "\n",
    "def main(self):\n",
    "        self.condition()\n",
    "        while self.playerscore != self.gametowin and self.aiscore != self.gametowin:\n",
    "            self.aimove()\n",
    "            self.playermove()\n",
    "            self.judge()\n",
    "        if self.playerscore == self.gametowin:\n",
    "            print(\"You have won the game!!!\")\n",
    "            if self.ai == 0:\n",
    "                print(\"\")\n",
    "        elif self.aiscore ==self.gametowin:\n",
    "            print(\"You have lost the game~\")\n",
    "        self.onemore = input(\" \\nDo you want to start another game? enter 'YES' to start, enter anything else to quit\")\n",
    "        if self.onemore == \"YES\" or self.onemore == \"yes\":\n",
    "            self.playerscore = 0\n",
    "            self.aiscore = 0\n",
    "            self.round = 1\n",
    "            self.gamenum += 1\n",
    "            self.main()\n",
    "        else:\n",
    "            print(\"Thank you for playing this game\")"
   ]
  }
 ],
 "metadata": {
  "kernelspec": {
   "display_name": "R",
   "language": "R",
   "name": "ir"
  },
  "language_info": {
   "codemirror_mode": "r",
   "file_extension": ".r",
   "mimetype": "text/x-r-source",
   "name": "R",
   "pygments_lexer": "r",
   "version": "3.6.1"
  }
 },
 "nbformat": 4,
 "nbformat_minor": 4
}
