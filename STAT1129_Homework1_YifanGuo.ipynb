{
 "cells": [
  {
   "cell_type": "code",
   "execution_count": null,
   "metadata": {},
   "outputs": [],
   "source": [
    "Color = (\"blue\",\"yellow\",\"red\",\"green\")"
   ]
  },
  {
   "cell_type": "code",
   "execution_count": 1,
   "metadata": {},
   "outputs": [
    {
     "name": "stdout",
     "output_type": "stream",
     "text": [
      "[30, 33, 36, 39, 42, 45, 48, 51, 54, 57, 60]\n"
     ]
    }
   ],
   "source": [
    "nums = list (range(30,61,3))\n",
    "print(nums)"
   ]
  },
  {
   "cell_type": "code",
   "execution_count": 12,
   "metadata": {},
   "outputs": [
    {
     "name": "stdout",
     "output_type": "stream",
     "text": [
      "{'Sunny': 'play', 'Rainy': 'watching TV', 'Cloudy': 'walk'}\n",
      "{'Sunny': 'play', 'Rainy': 'watching TV', 'Cloudy': 'walk', 'snowy': 'ski'}\n"
     ]
    }
   ],
   "source": [
    "days = {\"Sunny\": \"play\",\n",
    "        \"Rainy\": \"watching TV\",\n",
    "        \"Cloudy\": \"walk\"}\n",
    "print(days)\n",
    "days.update ({\"snowy\" : \"ski\"})\n",
    "print(days)"
   ]
  },
  {
   "cell_type": "code",
   "execution_count": null,
   "metadata": {},
   "outputs": [],
   "source": [
    "studentscore = input (\"what's score?\")\n",
    "if studentscore >= 90:\n",
    "    print(\"The student score is A.\")\n",
    "elif studentscore >= 80:\n",
    "    print(\"The student score is B.\")\n",
    "elif studentscore >= 70:\n",
    "    print(\"The student score is C.\")\n",
    "elif studentscore < 70:\n",
    "    print(\"The student score is F\")\n"
   ]
  },
  {
   "cell_type": "code",
   "execution_count": null,
   "metadata": {},
   "outputs": [],
   "source": []
  }
 ],
 "metadata": {
  "kernelspec": {
   "display_name": "Python 3",
   "language": "python",
   "name": "python3"
  },
  "language_info": {
   "codemirror_mode": {
    "name": "ipython",
    "version": 3
   },
   "file_extension": ".py",
   "mimetype": "text/x-python",
   "name": "python",
   "nbconvert_exporter": "python",
   "pygments_lexer": "ipython3",
   "version": "3.8.5"
  }
 },
 "nbformat": 4,
 "nbformat_minor": 4
}
