{
 "cells": [
  {
   "cell_type": "code",
   "execution_count": 96,
   "metadata": {
    "scrolled": true
   },
   "outputs": [
    {
     "name": "stdout",
     "output_type": "stream",
     "text": [
      "  0 :  2\n",
      "  1 :  3\n",
      "  2 :  4\n",
      "  3 :  5\n",
      "  4 :  5\n",
      "  5 :  2\n",
      "  6 :  6\n",
      "  7 :  4\n",
      "  8 :  3\n",
      "  9 :  5\n",
      "  10 :  3\n"
     ]
    },
    {
     "data": {
      "image/png": "[encoded data removed]",
      "text/plain": [
       "<Figure size 432x288 with 1 Axes>"
      ]
     },
     "metadata": {
      "needs_background": "light"
     },
     "output_type": "display_data"
    },
    {
     "name": "stdout",
     "output_type": "stream",
     "text": [
      "  0 :  2\n",
      "  1 :  3\n",
      "  2 :  4\n",
      "  3 :  5\n",
      "  4 :  5\n",
      "  5 :  2\n",
      "  6 :  6\n",
      "  7 :  4\n",
      "  8 :  3\n",
      "  9 :  5\n",
      "  10 :  3\n",
      "{\"0\": 2, \"1\": 3, \"2\": 4, \"3\": 5, \"4\": 5, \"5\": 2, \"6\": 6, \"7\": 4, \"8\": 3, \"9\": 5, \"10\": 3}\n"
     ]
    }
   ],
   "source": [
    "\n",
    "import matplotlib.pyplot as plt\n",
    "import numpy as np\n",
    "import json\n",
    "def CountFrequency(my_list): \n",
    "  \n",
    "    freq = {} \n",
    "    my_list.sort()\n",
    "    #begin with sort dictionary\n",
    "    for item in my_list: \n",
    "        if (item in freq): \n",
    "            freq[item] += 1\n",
    "        else: \n",
    "            freq[item] = 1\n",
    "\n",
    "    for key, value in freq.items(): \n",
    "        print (*[\" \", key, \": \", value]) \n",
    "\n",
    "    return freq;\n",
    "\n",
    "my_list =[2,4,6,8,4,5,2,1,9,0,4,6,7,4,3,2,1,9,10,3,7,9,6,0,1,3,5,6,7,8,9,10,2,3,6,8,9,10,6,7,4,3] \n",
    "SetFrequency = CountFrequency(my_list)\n",
    "\n",
    "plt.hist(my_list) \n",
    "plt.show()\n",
    "\n",
    "json_object = json.dumps(CountFrequency(my_list))\n",
    "print(json_object)"
   ]
  },
  {
   "cell_type": "code",
   "execution_count": 97,
   "metadata": {},
   "outputs": [
    {
     "data": {
      "text/plain": [
       "<AxesSubplot:title={'center':'Office Episodes Watched by Hour'}>"
      ]
     },
     "execution_count": 97,
     "metadata": {},
     "output_type": "execute_result"
    },
    {
     "data": {
      "image/png": "[encoded data removed]",
      "text/plain": [
       "<Figure size 1440x720 with 1 Axes>"
      ]
     },
     "metadata": {
      "needs_background": "light"
     },
     "output_type": "display_data"
    }
   ],
   "source": [
    "import pandas as pd\n",
    "df = pd.read_csv('ViewingActivity.csv')\n",
    "df = df.drop(['Profile Name', 'Attributes', 'Supplemental Video Type', 'Device Type', 'Bookmark', 'Latest Bookmark', 'Country'], axis=1)\n",
    "df.head(2)\n",
    "df['Start Time'] = pd.to_datetime(df['Start Time'], utc=True)\n",
    "df.dtypes\n",
    "\n",
    "df = df.set_index('Start Time')\n",
    "df.index = df.index.tz_convert('US/Eastern')\n",
    "df = df.reset_index()\n",
    "df.head(2)\n",
    "\n",
    "df['Duration'] = pd.to_timedelta(df['Duration'])\n",
    "df.dtypes\n",
    "\n",
    "office = df[df['Title'].str.contains('The Office (U.S.)', regex=False)]\n",
    "office.shape\n",
    "\n",
    "office = office[(office['Duration'] > '0 days 00:01:00')]\n",
    "office.shape\n",
    "\n",
    "office['Duration'].sum()\n",
    "office['weekday'] = office['Start Time'].dt.weekday\n",
    "office['hour'] = office['Start Time'].dt.hour\n",
    "\n",
    "%matplotlib inline\n",
    "import matplotlib\n",
    "office['weekday'] = pd.Categorical(office['weekday'], categories=\n",
    "    [0,1,2,3,4,5,6],\n",
    "    ordered=True)\n",
    "\n",
    "\n",
    "office_by_day = office['weekday'].value_counts()\n",
    "\n",
    "office_by_day = office_by_day.sort_index()\n",
    "\n",
    "matplotlib.rcParams.update({'font.size': 22})\n",
    "\n",
    "office_by_day.plot(kind='bar', figsize=(20,10), title='Office Episodes Watched by Day')\n",
    "\n",
    "office['hour'] = pd.Categorical(office['hour'], categories=\n",
    "    [0,1,2,3,4,5,6,7,8,9,10,11,12,13,14,15,16,17,18,19,20,21,22,23],\n",
    "    ordered=True)\n",
    "\n",
    "\n",
    "office_by_hour = office['hour'].value_counts()\n",
    "office_by_hour = office_by_hour.sort_index()\n",
    "office_by_hour.plot(kind='bar', figsize=(20,10), title='Office Episodes Watched by Hour')\n",
    "\n"
   ]
  },
  {
   "cell_type": "code",
   "execution_count": 110,
   "metadata": {},
   "outputs": [],
   "source": [
    "import pandas as pd\n",
    "\n",
    "df = pd.read_csv('ViewingActivity.csv')"
   ]
  },
  {
   "cell_type": "code",
   "execution_count": 111,
   "metadata": {},
   "outputs": [
    {
     "data": {
      "text/plain": [
       "(200, 10)"
      ]
     },
     "execution_count": 111,
     "metadata": {},
     "output_type": "execute_result"
    }
   ],
   "source": [
    "df.shape"
   ]
  },
  {
   "cell_type": "code",
   "execution_count": 112,
   "metadata": {},
   "outputs": [
    {
     "data": {
      "text/html": [
       "<div>\n",
       "<style scoped>\n",
       "    .dataframe tbody tr th:only-of-type {\n",
       "        vertical-align: middle;\n",
       "    }\n",
       "\n",
       "    .dataframe tbody tr th {\n",
       "        vertical-align: top;\n",
       "    }\n",
       "\n",
       "    .dataframe thead th {\n",
       "        text-align: right;\n",
       "    }\n",
       "</style>\n",
       "<table border=\"1\" class=\"dataframe\">\n",
       "  <thead>\n",
       "    <tr style=\"text-align: right;\">\n",
       "      <th></th>\n",
       "      <th>Profile Name</th>\n",
       "      <th>Start Time</th>\n",
       "      <th>Duration</th>\n",
       "      <th>Attributes</th>\n",
       "      <th>Title</th>\n",
       "      <th>Supplemental Video Type</th>\n",
       "      <th>Device Type</th>\n",
       "      <th>Bookmark</th>\n",
       "      <th>Latest Bookmark</th>\n",
       "      <th>Country</th>\n",
       "    </tr>\n",
       "  </thead>\n",
       "  <tbody>\n",
       "    <tr>\n",
       "      <th>0</th>\n",
       "      <td>Charlie</td>\n",
       "      <td>2013/3/20 5:17</td>\n",
       "      <td>0:00:05</td>\n",
       "      <td>NaN</td>\n",
       "      <td>Star Trek: Deep Space Nine: Season 5: Empok No...</td>\n",
       "      <td>NaN</td>\n",
       "      <td>Mac</td>\n",
       "      <td>0:00:05</td>\n",
       "      <td>Not latest view</td>\n",
       "      <td>US (United States)</td>\n",
       "    </tr>\n",
       "  </tbody>\n",
       "</table>\n",
       "</div>"
      ],
      "text/plain": [
       "  Profile Name      Start Time Duration  Attributes  \\\n",
       "0      Charlie  2013/3/20 5:17  0:00:05         NaN   \n",
       "\n",
       "                                               Title  Supplemental Video Type  \\\n",
       "0  Star Trek: Deep Space Nine: Season 5: Empok No...                      NaN   \n",
       "\n",
       "  Device Type Bookmark  Latest Bookmark             Country  \n",
       "0         Mac  0:00:05  Not latest view  US (United States)  "
      ]
     },
     "execution_count": 112,
     "metadata": {},
     "output_type": "execute_result"
    }
   ],
   "source": [
    "df.head(1)"
   ]
  },
  {
   "cell_type": "code",
   "execution_count": 113,
   "metadata": {
    "scrolled": true
   },
   "outputs": [
    {
     "data": {
      "text/html": [
       "<div>\n",
       "<style scoped>\n",
       "    .dataframe tbody tr th:only-of-type {\n",
       "        vertical-align: middle;\n",
       "    }\n",
       "\n",
       "    .dataframe tbody tr th {\n",
       "        vertical-align: top;\n",
       "    }\n",
       "\n",
       "    .dataframe thead th {\n",
       "        text-align: right;\n",
       "    }\n",
       "</style>\n",
       "<table border=\"1\" class=\"dataframe\">\n",
       "  <thead>\n",
       "    <tr style=\"text-align: right;\">\n",
       "      <th></th>\n",
       "      <th>Start Time</th>\n",
       "      <th>Duration</th>\n",
       "      <th>Title</th>\n",
       "    </tr>\n",
       "  </thead>\n",
       "  <tbody>\n",
       "    <tr>\n",
       "      <th>0</th>\n",
       "      <td>2013/3/20 5:17</td>\n",
       "      <td>0:00:05</td>\n",
       "      <td>Star Trek: Deep Space Nine: Season 5: Empok No...</td>\n",
       "    </tr>\n",
       "  </tbody>\n",
       "</table>\n",
       "</div>"
      ],
      "text/plain": [
       "       Start Time Duration                                              Title\n",
       "0  2013/3/20 5:17  0:00:05  Star Trek: Deep Space Nine: Season 5: Empok No..."
      ]
     },
     "execution_count": 113,
     "metadata": {},
     "output_type": "execute_result"
    }
   ],
   "source": [
    "df = df.drop(['Profile Name', 'Attributes', 'Supplemental Video Type', 'Device Type', 'Bookmark', 'Latest Bookmark', 'Country'], axis=1)\n",
    "df.head(1)"
   ]
  },
  {
   "cell_type": "code",
   "execution_count": 114,
   "metadata": {},
   "outputs": [
    {
     "data": {
      "text/plain": [
       "Start Time    object\n",
       "Duration      object\n",
       "Title         object\n",
       "dtype: object"
      ]
     },
     "execution_count": 114,
     "metadata": {},
     "output_type": "execute_result"
    }
   ],
   "source": [
    "df.dtypes"
   ]
  },
  {
   "cell_type": "code",
   "execution_count": 115,
   "metadata": {},
   "outputs": [
    {
     "data": {
      "text/plain": [
       "Start Time    datetime64[ns, UTC]\n",
       "Duration                   object\n",
       "Title                      object\n",
       "dtype: object"
      ]
     },
     "execution_count": 115,
     "metadata": {},
     "output_type": "execute_result"
    }
   ],
   "source": [
    "df['Start Time'] = pd.to_datetime(df['Start Time'], utc=True)\n",
    "df.dtypes"
   ]
  },
  {
   "cell_type": "code",
   "execution_count": 116,
   "metadata": {},
   "outputs": [
    {
     "data": {
      "text/html": [
       "<div>\n",
       "<style scoped>\n",
       "    .dataframe tbody tr th:only-of-type {\n",
       "        vertical-align: middle;\n",
       "    }\n",
       "\n",
       "    .dataframe tbody tr th {\n",
       "        vertical-align: top;\n",
       "    }\n",
       "\n",
       "    .dataframe thead th {\n",
       "        text-align: right;\n",
       "    }\n",
       "</style>\n",
       "<table border=\"1\" class=\"dataframe\">\n",
       "  <thead>\n",
       "    <tr style=\"text-align: right;\">\n",
       "      <th></th>\n",
       "      <th>Start Time</th>\n",
       "      <th>Duration</th>\n",
       "      <th>Title</th>\n",
       "    </tr>\n",
       "  </thead>\n",
       "  <tbody>\n",
       "    <tr>\n",
       "      <th>0</th>\n",
       "      <td>2013-03-20 01:17:00-04:00</td>\n",
       "      <td>0:00:05</td>\n",
       "      <td>Star Trek: Deep Space Nine: Season 5: Empok No...</td>\n",
       "    </tr>\n",
       "  </tbody>\n",
       "</table>\n",
       "</div>"
      ],
      "text/plain": [
       "                 Start Time Duration  \\\n",
       "0 2013-03-20 01:17:00-04:00  0:00:05   \n",
       "\n",
       "                                               Title  \n",
       "0  Star Trek: Deep Space Nine: Season 5: Empok No...  "
      ]
     },
     "execution_count": 116,
     "metadata": {},
     "output_type": "execute_result"
    }
   ],
   "source": [
    "df = df.set_index('Start Time')\n",
    "df.index = df.index.tz_convert('US/Eastern')\n",
    "df = df.reset_index()\n",
    "df.head(1)"
   ]
  },
  {
   "cell_type": "code",
   "execution_count": 117,
   "metadata": {},
   "outputs": [
    {
     "data": {
      "text/plain": [
       "Start Time    datetime64[ns, US/Eastern]\n",
       "Duration                 timedelta64[ns]\n",
       "Title                             object\n",
       "dtype: object"
      ]
     },
     "execution_count": 117,
     "metadata": {},
     "output_type": "execute_result"
    }
   ],
   "source": [
    "df['Duration'] = pd.to_timedelta(df['Duration'])\n",
    "df.dtypes"
   ]
  },
  {
   "cell_type": "code",
   "execution_count": 118,
   "metadata": {},
   "outputs": [],
   "source": [
    "office = df[df['Title'].str.contains('The Office (U.S.)', regex=False)]"
   ]
  },
  {
   "cell_type": "code",
   "execution_count": 119,
   "metadata": {},
   "outputs": [
    {
     "data": {
      "text/plain": [
       "(137, 3)"
      ]
     },
     "execution_count": 119,
     "metadata": {},
     "output_type": "execute_result"
    }
   ],
   "source": [
    "office.shape"
   ]
  },
  {
   "cell_type": "code",
   "execution_count": 120,
   "metadata": {},
   "outputs": [
    {
     "data": {
      "text/plain": [
       "(130, 3)"
      ]
     },
     "execution_count": 120,
     "metadata": {},
     "output_type": "execute_result"
    }
   ],
   "source": [
    "office = office[(office['Duration'] > '0 days 00:01:00')]\n",
    "office.shape"
   ]
  },
  {
   "cell_type": "code",
   "execution_count": 121,
   "metadata": {},
   "outputs": [
    {
     "data": {
      "text/plain": [
       "Timedelta('1 days 14:57:28')"
      ]
     },
     "execution_count": 121,
     "metadata": {},
     "output_type": "execute_result"
    }
   ],
   "source": [
    "office['Duration'].sum()"
   ]
  },
  {
   "cell_type": "code",
   "execution_count": 122,
   "metadata": {},
   "outputs": [
    {
     "data": {
      "text/html": [
       "<div>\n",
       "<style scoped>\n",
       "    .dataframe tbody tr th:only-of-type {\n",
       "        vertical-align: middle;\n",
       "    }\n",
       "\n",
       "    .dataframe tbody tr th {\n",
       "        vertical-align: top;\n",
       "    }\n",
       "\n",
       "    .dataframe thead th {\n",
       "        text-align: right;\n",
       "    }\n",
       "</style>\n",
       "<table border=\"1\" class=\"dataframe\">\n",
       "  <thead>\n",
       "    <tr style=\"text-align: right;\">\n",
       "      <th></th>\n",
       "      <th>Start Time</th>\n",
       "      <th>Duration</th>\n",
       "      <th>Title</th>\n",
       "      <th>weekday</th>\n",
       "      <th>hour</th>\n",
       "    </tr>\n",
       "  </thead>\n",
       "  <tbody>\n",
       "    <tr>\n",
       "      <th>10</th>\n",
       "      <td>2013-03-18 19:04:00-04:00</td>\n",
       "      <td>0 days 00:21:07</td>\n",
       "      <td>The Office (U.S.): Season 5: Moroccan Christma...</td>\n",
       "      <td>0</td>\n",
       "      <td>19</td>\n",
       "    </tr>\n",
       "  </tbody>\n",
       "</table>\n",
       "</div>"
      ],
      "text/plain": [
       "                  Start Time        Duration  \\\n",
       "10 2013-03-18 19:04:00-04:00 0 days 00:21:07   \n",
       "\n",
       "                                                Title  weekday  hour  \n",
       "10  The Office (U.S.): Season 5: Moroccan Christma...        0    19  "
      ]
     },
     "execution_count": 122,
     "metadata": {},
     "output_type": "execute_result"
    }
   ],
   "source": [
    "office['weekday'] = office['Start Time'].dt.weekday\n",
    "office['hour'] = office['Start Time'].dt.hour\n",
    "office.head(1)"
   ]
  },
  {
   "cell_type": "code",
   "execution_count": 123,
   "metadata": {},
   "outputs": [],
   "source": [
    "%matplotlib inline\n",
    "import matplotlib"
   ]
  },
  {
   "cell_type": "code",
   "execution_count": 126,
   "metadata": {},
   "outputs": [
    {
     "data": {
      "text/plain": [
       "<AxesSubplot:title={'center':'Office Episodes Watched by Day'}>"
      ]
     },
     "execution_count": 126,
     "metadata": {},
     "output_type": "execute_result"
    },
    {
     "data": {
      "image/png": "[encoded data removed]",
      "text/plain": [
       "<Figure size 1440x720 with 1 Axes>"
      ]
     },
     "metadata": {
      "needs_background": "light"
     },
     "output_type": "display_data"
    }
   ],
   "source": [
    "office['weekday'] = pd.Categorical(office['weekday'], categories=\n",
    "    [0,1,2,3,4,5,6],\n",
    "    ordered=True)\n",
    "\n",
    "\n",
    "office_by_day = office['weekday'].value_counts()\n",
    "\n",
    "office_by_day = office_by_day.sort_index()\n",
    "matplotlib.rcParams.update({'font.size': 22})\n",
    "\n",
    "office_by_day.plot(kind='bar', figsize=(20,10), title='Office Episodes Watched by Day')"
   ]
  },
  {
   "cell_type": "code",
   "execution_count": 125,
   "metadata": {},
   "outputs": [
    {
     "data": {
      "text/plain": [
       "<AxesSubplot:title={'center':'Office Episodes Watched by Hour'}>"
      ]
     },
     "execution_count": 125,
     "metadata": {},
     "output_type": "execute_result"
    },
    {
     "data": {
      "image/png": "[encoded data removed]",
      "text/plain": [
       "<Figure size 1440x720 with 1 Axes>"
      ]
     },
     "metadata": {
      "needs_background": "light"
     },
     "output_type": "display_data"
    }
   ],
   "source": [
    "office['hour'] = pd.Categorical(office['hour'], categories=\n",
    "    [0,1,2,3,4,5,6,7,8,9,10,11,12,13,14,15,16,17,18,19,20,21,22,23],\n",
    "    ordered=True)\n",
    "\n",
    "\n",
    "office_by_hour = office['hour'].value_counts()\n",
    "office_by_hour = office_by_hour.sort_index()\n",
    "office_by_hour.plot(kind='bar', figsize=(20,10), title='Office Episodes Watched by Hour')"
   ]
  },
  {
   "cell_type": "code",
   "execution_count": null,
   "metadata": {},
   "outputs": [],
   "source": []
  }
 ],
 "metadata": {
  "kernelspec": {
   "display_name": "Python 3",
   "language": "python",
   "name": "python3"
  },
  "language_info": {
   "codemirror_mode": {
    "name": "ipython",
    "version": 3
   },
   "file_extension": ".py",
   "mimetype": "text/x-python",
   "name": "python",
   "nbconvert_exporter": "python",
   "pygments_lexer": "ipython3",
   "version": "3.8.5"
  }
 },
 "nbformat": 4,
 "nbformat_minor": 4
}
