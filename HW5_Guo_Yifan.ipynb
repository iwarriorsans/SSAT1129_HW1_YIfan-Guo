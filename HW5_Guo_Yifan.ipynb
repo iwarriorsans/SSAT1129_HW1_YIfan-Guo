{
 "cells": [
  {
   "cell_type": "code",
   "execution_count": 43,
   "metadata": {},
   "outputs": [
    {
     "name": "stdout",
     "output_type": "stream",
     "text": [
      "5:30\n"
     ]
    }
   ],
   "source": [
    "class Clock():\n",
    "    def __init__(self, time):\n",
    "        self.time = time\n",
    "    def print_time(self):\n",
    "        time = '6:30'\n",
    "        print (self.time)\n",
    "\n",
    "clock = Clock('5:30')\n",
    "clock.print_time()\n",
    "\n",
    "# The code should print out 5:30.\n",
    "# Here self.time and time is different variable. Time is local cvariable in the method, print_time,but self.time is a variable of the object and each object has its own variable called attribute. \n",
    "# When we create an object \"clock\" of the class \"Clock\", and there's only one parameter \"time\". thus, we set up the class. \n",
    "# Because we cannot simply print out the time, we need to specify the object i want to call and then print it out.\n",
    "# the object clock accept the parameter \"Clock(\"5:30\")\", and then we call the method through clock object which print self.time\n",
    "# then we get the output 5:30"
   ]
  },
  {
   "cell_type": "code",
   "execution_count": 44,
   "metadata": {},
   "outputs": [
    {
     "name": "stdout",
     "output_type": "stream",
     "text": [
      "10:30\n"
     ]
    }
   ],
   "source": [
    "class Clock():\n",
    "    def __init__(self, time):\n",
    "        self.time = time\n",
    "    def print_time(self, time):\n",
    "        print (time)\n",
    "\n",
    "clock =  Clock ('5:30')\n",
    "clock.print_time('10:30')\n",
    "\n",
    "# The code should print out 10:30.\n",
    "# the passed argument time is printed"
   ]
  },
  {
   "cell_type": "code",
   "execution_count": 45,
   "metadata": {},
   "outputs": [
    {
     "name": "stdout",
     "output_type": "stream",
     "text": [
      "5:30\n"
     ]
    }
   ],
   "source": [
    "class Clock(object):\n",
    "    def __init__(self, time):\n",
    "        self.time = time\n",
    "    def print_time(self):\n",
    "        print (self.time)\n",
    "        \n",
    "        \n",
    "boston_clock = Clock('5:30')\n",
    "paris_clock.time = ('10:30')\n",
    "\n",
    "paris_clock = boston_clock\n",
    "boston_clock.print_time()\n",
    "\n",
    "# The code should print out 5:30\n",
    "# Both boston_clock and paris_clock point to the same object. \n",
    "# The object is created only once and is copied to paris_clock"
   ]
  },
  {
   "cell_type": "code",
   "execution_count": 46,
   "metadata": {},
   "outputs": [
    {
     "name": "stdout",
     "output_type": "stream",
     "text": [
      "[5, 6]\n",
      "[6, 7]\n",
      "There is nothing in queue\n"
     ]
    }
   ],
   "source": [
    "class Queue:\n",
    "    def __init__(self):\n",
    "        self.List = []\n",
    "    def insert(self,addedelement):\n",
    "        self.List.append(addedelement)\n",
    "    def remove(self):\n",
    "        if len(self.List)==0:\n",
    "            print(\"There is nothing in queue\")\n",
    "        else:\n",
    "            self.List.remove(self.List[0])\n",
    "    def print(self):\n",
    "        print(self.List)\n",
    "        \n",
    "queue = Queue()\n",
    "queue.insert(5)\n",
    "queue.insert(6)\n",
    "queue.print()\n",
    "# [5,6]\n",
    "queue.insert(7)\n",
    "queue.remove()\n",
    "queue.print()\n",
    "# [6,7]\n",
    "queue.remove()\n",
    "queue.remove()\n",
    "queue.remove()\n",
    "# quese is empty now."
   ]
  }
 ],
 "metadata": {
  "kernelspec": {
   "display_name": "Python 3",
   "language": "python",
   "name": "python3"
  },
  "language_info": {
   "codemirror_mode": {
    "name": "ipython",
    "version": 3
   },
   "file_extension": ".py",
   "mimetype": "text/x-python",
   "name": "python",
   "nbconvert_exporter": "python",
   "pygments_lexer": "ipython3",
   "version": "3.8.5"
  }
 },
 "nbformat": 4,
 "nbformat_minor": 4
}
